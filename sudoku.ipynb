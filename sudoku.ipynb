{
 "cells": [
  {
   "cell_type": "code",
   "execution_count": 2,
   "metadata": {},
   "outputs": [],
   "source": [
    "import pandas as pd"
   ]
  },
  {
   "cell_type": "code",
   "execution_count": 3,
   "metadata": {},
   "outputs": [],
   "source": [
    "df = pd.read_csv(\"problems.csv\")"
   ]
  },
  {
   "cell_type": "code",
   "execution_count": 6,
   "metadata": {},
   "outputs": [
    {
     "output_type": "execute_result",
     "data": {
      "text/plain": "   Unnamed: 0       id                                             puzzle  \\\n0      600351   600352  6..3...2...2.....38.7..49.54.5...8..9..4.....2...   \n1     1180703  1180704  ...5....23.7....8...8.96...67....1...4...86......   \n2     2503470  2503471  ...4.....5....6.18.6.7.2.............4.68.19.1...   \n3     1521210  1521211  4.6.7.....536.....8.753....6...85.4........9.....   \n4      810949   810950  8..........4.1...5..536....4..721........8..9....   \n\n                                            solution  clues  difficulty  \n0  6413597285928714638372649154751928369134862572...     23         3.6  \n1  4165839723972415862587964316793521485419786238...     23         1.6  \n2  9314587265729364184687123596831945722476851931...     25         1.9  \n3  4961783251536428798275396146397851425814237962...     24         3.0  \n4  8392756416748192351253649874967213583516487292...     23         1.3  ",
      "text/html": "<div>\n<style scoped>\n    .dataframe tbody tr th:only-of-type {\n        vertical-align: middle;\n    }\n\n    .dataframe tbody tr th {\n        vertical-align: top;\n    }\n\n    .dataframe thead th {\n        text-align: right;\n    }\n</style>\n<table border=\"1\" class=\"dataframe\">\n  <thead>\n    <tr style=\"text-align: right;\">\n      <th></th>\n      <th>Unnamed: 0</th>\n      <th>id</th>\n      <th>puzzle</th>\n      <th>solution</th>\n      <th>clues</th>\n      <th>difficulty</th>\n    </tr>\n  </thead>\n  <tbody>\n    <tr>\n      <th>0</th>\n      <td>600351</td>\n      <td>600352</td>\n      <td>6..3...2...2.....38.7..49.54.5...8..9..4.....2...</td>\n      <td>6413597285928714638372649154751928369134862572...</td>\n      <td>23</td>\n      <td>3.6</td>\n    </tr>\n    <tr>\n      <th>1</th>\n      <td>1180703</td>\n      <td>1180704</td>\n      <td>...5....23.7....8...8.96...67....1...4...86......</td>\n      <td>4165839723972415862587964316793521485419786238...</td>\n      <td>23</td>\n      <td>1.6</td>\n    </tr>\n    <tr>\n      <th>2</th>\n      <td>2503470</td>\n      <td>2503471</td>\n      <td>...4.....5....6.18.6.7.2.............4.68.19.1...</td>\n      <td>9314587265729364184687123596831945722476851931...</td>\n      <td>25</td>\n      <td>1.9</td>\n    </tr>\n    <tr>\n      <th>3</th>\n      <td>1521210</td>\n      <td>1521211</td>\n      <td>4.6.7.....536.....8.753....6...85.4........9.....</td>\n      <td>4961783251536428798275396146397851425814237962...</td>\n      <td>24</td>\n      <td>3.0</td>\n    </tr>\n    <tr>\n      <th>4</th>\n      <td>810949</td>\n      <td>810950</td>\n      <td>8..........4.1...5..536....4..721........8..9....</td>\n      <td>8392756416748192351253649874967213583516487292...</td>\n      <td>23</td>\n      <td>1.3</td>\n    </tr>\n  </tbody>\n</table>\n</div>"
     },
     "metadata": {},
     "execution_count": 6
    }
   ],
   "source": [
    "df.head()"
   ]
  },
  {
   "cell_type": "code",
   "execution_count": 4,
   "metadata": {},
   "outputs": [
    {
     "output_type": "execute_result",
     "data": {
      "text/plain": "         Unnamed: 0            id         clues    difficulty\ncount  3.000000e+04  3.000000e+04  30000.000000  30000.000000\nmean   1.497223e+06  1.497224e+06     24.308233      1.238630\nstd    8.641903e+05  8.641903e+05      1.100787      1.274092\nmin    9.600000e+01  9.700000e+01     21.000000      0.000000\n25%    7.485075e+05  7.485085e+05     24.000000      0.000000\n50%    1.497816e+06  1.497818e+06     24.000000      1.200000\n75%    2.241585e+06  2.241586e+06     25.000000      2.200000\nmax    2.999870e+06  2.999871e+06     29.000000      7.300000",
      "text/html": "<div>\n<style scoped>\n    .dataframe tbody tr th:only-of-type {\n        vertical-align: middle;\n    }\n\n    .dataframe tbody tr th {\n        vertical-align: top;\n    }\n\n    .dataframe thead th {\n        text-align: right;\n    }\n</style>\n<table border=\"1\" class=\"dataframe\">\n  <thead>\n    <tr style=\"text-align: right;\">\n      <th></th>\n      <th>Unnamed: 0</th>\n      <th>id</th>\n      <th>clues</th>\n      <th>difficulty</th>\n    </tr>\n  </thead>\n  <tbody>\n    <tr>\n      <th>count</th>\n      <td>3.000000e+04</td>\n      <td>3.000000e+04</td>\n      <td>30000.000000</td>\n      <td>30000.000000</td>\n    </tr>\n    <tr>\n      <th>mean</th>\n      <td>1.497223e+06</td>\n      <td>1.497224e+06</td>\n      <td>24.308233</td>\n      <td>1.238630</td>\n    </tr>\n    <tr>\n      <th>std</th>\n      <td>8.641903e+05</td>\n      <td>8.641903e+05</td>\n      <td>1.100787</td>\n      <td>1.274092</td>\n    </tr>\n    <tr>\n      <th>min</th>\n      <td>9.600000e+01</td>\n      <td>9.700000e+01</td>\n      <td>21.000000</td>\n      <td>0.000000</td>\n    </tr>\n    <tr>\n      <th>25%</th>\n      <td>7.485075e+05</td>\n      <td>7.485085e+05</td>\n      <td>24.000000</td>\n      <td>0.000000</td>\n    </tr>\n    <tr>\n      <th>50%</th>\n      <td>1.497816e+06</td>\n      <td>1.497818e+06</td>\n      <td>24.000000</td>\n      <td>1.200000</td>\n    </tr>\n    <tr>\n      <th>75%</th>\n      <td>2.241585e+06</td>\n      <td>2.241586e+06</td>\n      <td>25.000000</td>\n      <td>2.200000</td>\n    </tr>\n    <tr>\n      <th>max</th>\n      <td>2.999870e+06</td>\n      <td>2.999871e+06</td>\n      <td>29.000000</td>\n      <td>7.300000</td>\n    </tr>\n  </tbody>\n</table>\n</div>"
     },
     "metadata": {},
     "execution_count": 4
    }
   ],
   "source": [
    "df.describe()"
   ]
  },
  {
   "cell_type": "code",
   "execution_count": 11,
   "metadata": {},
   "outputs": [
    {
     "output_type": "execute_result",
     "data": {
      "text/plain": "Unnamed: 0      int64\nid              int64\npuzzle         object\nsolution       object\nclues           int64\ndifficulty    float64\ndtype: object"
     },
     "metadata": {},
     "execution_count": 11
    }
   ],
   "source": [
    "df.dtypes"
   ]
  },
  {
   "cell_type": "code",
   "execution_count": 17,
   "metadata": {},
   "outputs": [
    {
     "output_type": "execute_result",
     "data": {
      "text/plain": "15457"
     },
     "metadata": {},
     "execution_count": 17
    }
   ],
   "source": [
    "len( df.query( \" difficulty >= 1.2 \" ) )"
   ]
  },
  {
   "cell_type": "code",
   "execution_count": 8,
   "metadata": {},
   "outputs": [
    {
     "output_type": "execute_result",
     "data": {
      "text/plain": "81"
     },
     "metadata": {},
     "execution_count": 8
    }
   ],
   "source": []
  },
  {
   "cell_type": "code",
   "execution_count": null,
   "metadata": {},
   "outputs": [],
   "source": []
  }
 ],
 "metadata": {
  "language_info": {
   "codemirror_mode": {
    "name": "ipython",
    "version": 3
   },
   "file_extension": ".py",
   "mimetype": "text/x-python",
   "name": "python",
   "nbconvert_exporter": "python",
   "pygments_lexer": "ipython3",
   "version": "3.7.5-final"
  },
  "orig_nbformat": 2,
  "kernelspec": {
   "name": "python37564bit4f558ba912ef40e3888501bbeeb15297",
   "display_name": "Python 3.7.5 64-bit"
  }
 },
 "nbformat": 4,
 "nbformat_minor": 2
}